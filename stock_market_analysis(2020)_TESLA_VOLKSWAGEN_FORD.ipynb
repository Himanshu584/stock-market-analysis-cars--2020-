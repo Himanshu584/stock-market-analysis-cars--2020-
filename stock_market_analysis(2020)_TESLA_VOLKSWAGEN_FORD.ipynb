{
 "cells": [
  {
   "cell_type": "markdown",
   "metadata": {},
   "source": [
    "# Stock market analysis (2020) tesla vs volkswagen"
   ]
  },
  {
   "cell_type": "markdown",
   "metadata": {},
   "source": [
    "we start by importing the libraries we will use for our analysis.\n",
    "    - pandas for data manipulation\n",
    "    - numpy for working with arrays\n",
    "    - matplotlib and seaborn for graphical representation"
   ]
  },
  {
   "cell_type": "code",
   "execution_count": 2,
   "metadata": {},
   "outputs": [],
   "source": [
    "import pandas as pd\n",
    "import numpy as np\n",
    "import matplotlib.pyplot as plt\n",
    "import seaborn as sns\n",
    "sns.set()"
   ]
  },
  {
   "cell_type": "markdown",
   "metadata": {},
   "source": [
    "Now we load our Tesla, Volkswagen and Ford 2020 stocks data into variables namely tesla_data, volks_data and ford_data"
   ]
  },
  {
   "cell_type": "code",
   "execution_count": 45,
   "metadata": {},
   "outputs": [],
   "source": [
    "tesla_data = pd.read_csv(r\"C:\\Users\\Asus\\Downloads\\TSLA.csv\", index_col='Date', parse_dates=True)\n",
    "volks_data = pd.read_csv(r\"C:\\Users\\Asus\\Downloads\\VWAGY.csv\", index_col='Date', parse_dates=True)\n",
    "ford_data = pd.read_csv(r\"C:\\Users\\Asus\\Downloads\\F.csv\", index_col='Date', parse_dates=True)"
   ]
  },
  {
   "cell_type": "code",
   "execution_count": 8,
   "metadata": {},
   "outputs": [
    {
     "data": {
      "text/html": [
       "<div>\n",
       "<style scoped>\n",
       "    .dataframe tbody tr th:only-of-type {\n",
       "        vertical-align: middle;\n",
       "    }\n",
       "\n",
       "    .dataframe tbody tr th {\n",
       "        vertical-align: top;\n",
       "    }\n",
       "\n",
       "    .dataframe thead th {\n",
       "        text-align: right;\n",
       "    }\n",
       "</style>\n",
       "<table border=\"1\" class=\"dataframe\">\n",
       "  <thead>\n",
       "    <tr style=\"text-align: right;\">\n",
       "      <th></th>\n",
       "      <th>Open</th>\n",
       "      <th>High</th>\n",
       "      <th>Low</th>\n",
       "      <th>Close</th>\n",
       "      <th>Adj Close</th>\n",
       "      <th>Volume</th>\n",
       "    </tr>\n",
       "    <tr>\n",
       "      <th>Date</th>\n",
       "      <th></th>\n",
       "      <th></th>\n",
       "      <th></th>\n",
       "      <th></th>\n",
       "      <th></th>\n",
       "      <th></th>\n",
       "    </tr>\n",
       "  </thead>\n",
       "  <tbody>\n",
       "    <tr>\n",
       "      <th>2020-01-02</th>\n",
       "      <td>84.900002</td>\n",
       "      <td>86.139999</td>\n",
       "      <td>84.342003</td>\n",
       "      <td>86.052002</td>\n",
       "      <td>86.052002</td>\n",
       "      <td>47660500</td>\n",
       "    </tr>\n",
       "    <tr>\n",
       "      <th>2020-01-03</th>\n",
       "      <td>88.099998</td>\n",
       "      <td>90.800003</td>\n",
       "      <td>87.384003</td>\n",
       "      <td>88.601997</td>\n",
       "      <td>88.601997</td>\n",
       "      <td>88892500</td>\n",
       "    </tr>\n",
       "    <tr>\n",
       "      <th>2020-01-06</th>\n",
       "      <td>88.094002</td>\n",
       "      <td>90.311996</td>\n",
       "      <td>88.000000</td>\n",
       "      <td>90.307999</td>\n",
       "      <td>90.307999</td>\n",
       "      <td>50665000</td>\n",
       "    </tr>\n",
       "  </tbody>\n",
       "</table>\n",
       "</div>"
      ],
      "text/plain": [
       "                 Open       High        Low      Close  Adj Close    Volume\n",
       "Date                                                                       \n",
       "2020-01-02  84.900002  86.139999  84.342003  86.052002  86.052002  47660500\n",
       "2020-01-03  88.099998  90.800003  87.384003  88.601997  88.601997  88892500\n",
       "2020-01-06  88.094002  90.311996  88.000000  90.307999  90.307999  50665000"
      ]
     },
     "execution_count": 8,
     "metadata": {},
     "output_type": "execute_result"
    }
   ],
   "source": [
    "tesla_data.head(n=3)"
   ]
  },
  {
   "cell_type": "code",
   "execution_count": 10,
   "metadata": {},
   "outputs": [
    {
     "data": {
      "text/html": [
       "<div>\n",
       "<style scoped>\n",
       "    .dataframe tbody tr th:only-of-type {\n",
       "        vertical-align: middle;\n",
       "    }\n",
       "\n",
       "    .dataframe tbody tr th {\n",
       "        vertical-align: top;\n",
       "    }\n",
       "\n",
       "    .dataframe thead th {\n",
       "        text-align: right;\n",
       "    }\n",
       "</style>\n",
       "<table border=\"1\" class=\"dataframe\">\n",
       "  <thead>\n",
       "    <tr style=\"text-align: right;\">\n",
       "      <th></th>\n",
       "      <th>Open</th>\n",
       "      <th>High</th>\n",
       "      <th>Low</th>\n",
       "      <th>Close</th>\n",
       "      <th>Adj Close</th>\n",
       "      <th>Volume</th>\n",
       "    </tr>\n",
       "    <tr>\n",
       "      <th>Date</th>\n",
       "      <th></th>\n",
       "      <th></th>\n",
       "      <th></th>\n",
       "      <th></th>\n",
       "      <th></th>\n",
       "      <th></th>\n",
       "    </tr>\n",
       "  </thead>\n",
       "  <tbody>\n",
       "    <tr>\n",
       "      <th>2020-01-02</th>\n",
       "      <td>19.667999</td>\n",
       "      <td>19.896999</td>\n",
       "      <td>19.639999</td>\n",
       "      <td>19.889999</td>\n",
       "      <td>19.255404</td>\n",
       "      <td>71000</td>\n",
       "    </tr>\n",
       "    <tr>\n",
       "      <th>2020-01-03</th>\n",
       "      <td>19.430000</td>\n",
       "      <td>19.540001</td>\n",
       "      <td>19.378000</td>\n",
       "      <td>19.410000</td>\n",
       "      <td>18.790718</td>\n",
       "      <td>35500</td>\n",
       "    </tr>\n",
       "    <tr>\n",
       "      <th>2020-01-06</th>\n",
       "      <td>19.360001</td>\n",
       "      <td>19.650000</td>\n",
       "      <td>19.330000</td>\n",
       "      <td>19.620001</td>\n",
       "      <td>18.994019</td>\n",
       "      <td>115300</td>\n",
       "    </tr>\n",
       "  </tbody>\n",
       "</table>\n",
       "</div>"
      ],
      "text/plain": [
       "                 Open       High        Low      Close  Adj Close  Volume\n",
       "Date                                                                     \n",
       "2020-01-02  19.667999  19.896999  19.639999  19.889999  19.255404   71000\n",
       "2020-01-03  19.430000  19.540001  19.378000  19.410000  18.790718   35500\n",
       "2020-01-06  19.360001  19.650000  19.330000  19.620001  18.994019  115300"
      ]
     },
     "execution_count": 10,
     "metadata": {},
     "output_type": "execute_result"
    }
   ],
   "source": [
    "volks_data.head(n=3)"
   ]
  },
  {
   "cell_type": "code",
   "execution_count": 47,
   "metadata": {},
   "outputs": [
    {
     "data": {
      "text/html": [
       "<div>\n",
       "<style scoped>\n",
       "    .dataframe tbody tr th:only-of-type {\n",
       "        vertical-align: middle;\n",
       "    }\n",
       "\n",
       "    .dataframe tbody tr th {\n",
       "        vertical-align: top;\n",
       "    }\n",
       "\n",
       "    .dataframe thead th {\n",
       "        text-align: right;\n",
       "    }\n",
       "</style>\n",
       "<table border=\"1\" class=\"dataframe\">\n",
       "  <thead>\n",
       "    <tr style=\"text-align: right;\">\n",
       "      <th></th>\n",
       "      <th>Open</th>\n",
       "      <th>High</th>\n",
       "      <th>Low</th>\n",
       "      <th>Close</th>\n",
       "      <th>Adj Close</th>\n",
       "      <th>Volume</th>\n",
       "    </tr>\n",
       "    <tr>\n",
       "      <th>Date</th>\n",
       "      <th></th>\n",
       "      <th></th>\n",
       "      <th></th>\n",
       "      <th></th>\n",
       "      <th></th>\n",
       "      <th></th>\n",
       "    </tr>\n",
       "  </thead>\n",
       "  <tbody>\n",
       "    <tr>\n",
       "      <th>2020-01-02</th>\n",
       "      <td>9.29</td>\n",
       "      <td>9.42</td>\n",
       "      <td>9.19</td>\n",
       "      <td>9.42</td>\n",
       "      <td>9.262475</td>\n",
       "      <td>43425700</td>\n",
       "    </tr>\n",
       "    <tr>\n",
       "      <th>2020-01-03</th>\n",
       "      <td>9.31</td>\n",
       "      <td>9.37</td>\n",
       "      <td>9.15</td>\n",
       "      <td>9.21</td>\n",
       "      <td>9.055987</td>\n",
       "      <td>45040800</td>\n",
       "    </tr>\n",
       "    <tr>\n",
       "      <th>2020-01-06</th>\n",
       "      <td>9.10</td>\n",
       "      <td>9.17</td>\n",
       "      <td>9.06</td>\n",
       "      <td>9.16</td>\n",
       "      <td>9.006823</td>\n",
       "      <td>43372300</td>\n",
       "    </tr>\n",
       "  </tbody>\n",
       "</table>\n",
       "</div>"
      ],
      "text/plain": [
       "            Open  High   Low  Close  Adj Close    Volume\n",
       "Date                                                    \n",
       "2020-01-02  9.29  9.42  9.19   9.42   9.262475  43425700\n",
       "2020-01-03  9.31  9.37  9.15   9.21   9.055987  45040800\n",
       "2020-01-06  9.10  9.17  9.06   9.16   9.006823  43372300"
      ]
     },
     "execution_count": 47,
     "metadata": {},
     "output_type": "execute_result"
    }
   ],
   "source": [
    "ford_data.head(n=3)"
   ]
  },
  {
   "cell_type": "markdown",
   "metadata": {},
   "source": [
    "Lets quickly check if all our datasets have been stored as pandas dataframe."
   ]
  },
  {
   "cell_type": "code",
   "execution_count": 46,
   "metadata": {},
   "outputs": [
    {
     "data": {
      "text/plain": [
       "(pandas.core.frame.DataFrame,\n",
       " pandas.core.frame.DataFrame,\n",
       " pandas.core.frame.DataFrame)"
      ]
     },
     "execution_count": 46,
     "metadata": {},
     "output_type": "execute_result"
    }
   ],
   "source": [
    "type(tesla_data), type(volks_data), type(ford_data)"
   ]
  },
  {
   "cell_type": "markdown",
   "metadata": {},
   "source": [
    "we start by looking at summary statistics for all the 3 datasets we have.\n",
    "here we can look at the mean , standard-deviation, min-value, max-value and interquartile values for the specific dataset"
   ]
  },
  {
   "cell_type": "code",
   "execution_count": 15,
   "metadata": {},
   "outputs": [
    {
     "data": {
      "text/html": [
       "<div>\n",
       "<style scoped>\n",
       "    .dataframe tbody tr th:only-of-type {\n",
       "        vertical-align: middle;\n",
       "    }\n",
       "\n",
       "    .dataframe tbody tr th {\n",
       "        vertical-align: top;\n",
       "    }\n",
       "\n",
       "    .dataframe thead th {\n",
       "        text-align: right;\n",
       "    }\n",
       "</style>\n",
       "<table border=\"1\" class=\"dataframe\">\n",
       "  <thead>\n",
       "    <tr style=\"text-align: right;\">\n",
       "      <th></th>\n",
       "      <th>Open</th>\n",
       "      <th>High</th>\n",
       "      <th>Low</th>\n",
       "      <th>Close</th>\n",
       "      <th>Adj Close</th>\n",
       "      <th>Volume</th>\n",
       "    </tr>\n",
       "  </thead>\n",
       "  <tbody>\n",
       "    <tr>\n",
       "      <th>count</th>\n",
       "      <td>240.000000</td>\n",
       "      <td>240.000000</td>\n",
       "      <td>240.000000</td>\n",
       "      <td>240.000000</td>\n",
       "      <td>240.000000</td>\n",
       "      <td>2.400000e+02</td>\n",
       "    </tr>\n",
       "    <tr>\n",
       "      <th>mean</th>\n",
       "      <td>269.416259</td>\n",
       "      <td>277.230867</td>\n",
       "      <td>261.376617</td>\n",
       "      <td>269.976783</td>\n",
       "      <td>269.976783</td>\n",
       "      <td>6.384281e+07</td>\n",
       "    </tr>\n",
       "    <tr>\n",
       "      <th>std</th>\n",
       "      <td>148.441646</td>\n",
       "      <td>152.291120</td>\n",
       "      <td>144.242465</td>\n",
       "      <td>149.155458</td>\n",
       "      <td>149.155458</td>\n",
       "      <td>4.469842e+07</td>\n",
       "    </tr>\n",
       "    <tr>\n",
       "      <th>min</th>\n",
       "      <td>74.940002</td>\n",
       "      <td>80.972000</td>\n",
       "      <td>70.101997</td>\n",
       "      <td>72.244003</td>\n",
       "      <td>72.244003</td>\n",
       "      <td>7.255600e+06</td>\n",
       "    </tr>\n",
       "    <tr>\n",
       "      <th>25%</th>\n",
       "      <td>146.088501</td>\n",
       "      <td>153.256500</td>\n",
       "      <td>141.213497</td>\n",
       "      <td>149.087006</td>\n",
       "      <td>149.087006</td>\n",
       "      <td>2.930625e+07</td>\n",
       "    </tr>\n",
       "    <tr>\n",
       "      <th>50%</th>\n",
       "      <td>199.883003</td>\n",
       "      <td>202.885002</td>\n",
       "      <td>197.259003</td>\n",
       "      <td>200.267998</td>\n",
       "      <td>200.267998</td>\n",
       "      <td>5.876525e+07</td>\n",
       "    </tr>\n",
       "    <tr>\n",
       "      <th>75%</th>\n",
       "      <td>411.722504</td>\n",
       "      <td>422.917511</td>\n",
       "      <td>405.339996</td>\n",
       "      <td>412.315010</td>\n",
       "      <td>412.315010</td>\n",
       "      <td>8.707665e+07</td>\n",
       "    </tr>\n",
       "    <tr>\n",
       "      <th>max</th>\n",
       "      <td>653.690002</td>\n",
       "      <td>654.320007</td>\n",
       "      <td>618.500000</td>\n",
       "      <td>649.880005</td>\n",
       "      <td>649.880005</td>\n",
       "      <td>3.046940e+08</td>\n",
       "    </tr>\n",
       "  </tbody>\n",
       "</table>\n",
       "</div>"
      ],
      "text/plain": [
       "             Open        High         Low       Close   Adj Close  \\\n",
       "count  240.000000  240.000000  240.000000  240.000000  240.000000   \n",
       "mean   269.416259  277.230867  261.376617  269.976783  269.976783   \n",
       "std    148.441646  152.291120  144.242465  149.155458  149.155458   \n",
       "min     74.940002   80.972000   70.101997   72.244003   72.244003   \n",
       "25%    146.088501  153.256500  141.213497  149.087006  149.087006   \n",
       "50%    199.883003  202.885002  197.259003  200.267998  200.267998   \n",
       "75%    411.722504  422.917511  405.339996  412.315010  412.315010   \n",
       "max    653.690002  654.320007  618.500000  649.880005  649.880005   \n",
       "\n",
       "             Volume  \n",
       "count  2.400000e+02  \n",
       "mean   6.384281e+07  \n",
       "std    4.469842e+07  \n",
       "min    7.255600e+06  \n",
       "25%    2.930625e+07  \n",
       "50%    5.876525e+07  \n",
       "75%    8.707665e+07  \n",
       "max    3.046940e+08  "
      ]
     },
     "execution_count": 15,
     "metadata": {},
     "output_type": "execute_result"
    }
   ],
   "source": [
    "tesla_data.describe()"
   ]
  },
  {
   "cell_type": "code",
   "execution_count": 16,
   "metadata": {
    "scrolled": true
   },
   "outputs": [
    {
     "data": {
      "text/html": [
       "<div>\n",
       "<style scoped>\n",
       "    .dataframe tbody tr th:only-of-type {\n",
       "        vertical-align: middle;\n",
       "    }\n",
       "\n",
       "    .dataframe tbody tr th {\n",
       "        vertical-align: top;\n",
       "    }\n",
       "\n",
       "    .dataframe thead th {\n",
       "        text-align: right;\n",
       "    }\n",
       "</style>\n",
       "<table border=\"1\" class=\"dataframe\">\n",
       "  <thead>\n",
       "    <tr style=\"text-align: right;\">\n",
       "      <th></th>\n",
       "      <th>Open</th>\n",
       "      <th>High</th>\n",
       "      <th>Low</th>\n",
       "      <th>Close</th>\n",
       "      <th>Adj Close</th>\n",
       "      <th>Volume</th>\n",
       "    </tr>\n",
       "  </thead>\n",
       "  <tbody>\n",
       "    <tr>\n",
       "      <th>count</th>\n",
       "      <td>239.000000</td>\n",
       "      <td>239.000000</td>\n",
       "      <td>239.000000</td>\n",
       "      <td>239.000000</td>\n",
       "      <td>239.000000</td>\n",
       "      <td>239.000000</td>\n",
       "    </tr>\n",
       "    <tr>\n",
       "      <th>mean</th>\n",
       "      <td>16.855452</td>\n",
       "      <td>17.012301</td>\n",
       "      <td>16.677699</td>\n",
       "      <td>16.848946</td>\n",
       "      <td>16.431004</td>\n",
       "      <td>164843.096234</td>\n",
       "    </tr>\n",
       "    <tr>\n",
       "      <th>std</th>\n",
       "      <td>2.009813</td>\n",
       "      <td>1.950785</td>\n",
       "      <td>2.057410</td>\n",
       "      <td>2.011862</td>\n",
       "      <td>2.028882</td>\n",
       "      <td>115935.641849</td>\n",
       "    </tr>\n",
       "    <tr>\n",
       "      <th>min</th>\n",
       "      <td>11.120000</td>\n",
       "      <td>11.320000</td>\n",
       "      <td>10.600000</td>\n",
       "      <td>10.680000</td>\n",
       "      <td>10.339252</td>\n",
       "      <td>35500.000000</td>\n",
       "    </tr>\n",
       "    <tr>\n",
       "      <th>25%</th>\n",
       "      <td>15.890000</td>\n",
       "      <td>16.070000</td>\n",
       "      <td>15.725000</td>\n",
       "      <td>15.845000</td>\n",
       "      <td>15.445951</td>\n",
       "      <td>85250.000000</td>\n",
       "    </tr>\n",
       "    <tr>\n",
       "      <th>50%</th>\n",
       "      <td>17.150000</td>\n",
       "      <td>17.280001</td>\n",
       "      <td>16.959999</td>\n",
       "      <td>17.139999</td>\n",
       "      <td>16.780001</td>\n",
       "      <td>134200.000000</td>\n",
       "    </tr>\n",
       "    <tr>\n",
       "      <th>75%</th>\n",
       "      <td>18.310001</td>\n",
       "      <td>18.452500</td>\n",
       "      <td>18.225001</td>\n",
       "      <td>18.374001</td>\n",
       "      <td>17.814395</td>\n",
       "      <td>198950.000000</td>\n",
       "    </tr>\n",
       "    <tr>\n",
       "      <th>max</th>\n",
       "      <td>20.270000</td>\n",
       "      <td>20.350000</td>\n",
       "      <td>20.180000</td>\n",
       "      <td>20.240000</td>\n",
       "      <td>19.910999</td>\n",
       "      <td>907700.000000</td>\n",
       "    </tr>\n",
       "  </tbody>\n",
       "</table>\n",
       "</div>"
      ],
      "text/plain": [
       "             Open        High         Low       Close   Adj Close  \\\n",
       "count  239.000000  239.000000  239.000000  239.000000  239.000000   \n",
       "mean    16.855452   17.012301   16.677699   16.848946   16.431004   \n",
       "std      2.009813    1.950785    2.057410    2.011862    2.028882   \n",
       "min     11.120000   11.320000   10.600000   10.680000   10.339252   \n",
       "25%     15.890000   16.070000   15.725000   15.845000   15.445951   \n",
       "50%     17.150000   17.280001   16.959999   17.139999   16.780001   \n",
       "75%     18.310001   18.452500   18.225001   18.374001   17.814395   \n",
       "max     20.270000   20.350000   20.180000   20.240000   19.910999   \n",
       "\n",
       "              Volume  \n",
       "count     239.000000  \n",
       "mean   164843.096234  \n",
       "std    115935.641849  \n",
       "min     35500.000000  \n",
       "25%     85250.000000  \n",
       "50%    134200.000000  \n",
       "75%    198950.000000  \n",
       "max    907700.000000  "
      ]
     },
     "execution_count": 16,
     "metadata": {},
     "output_type": "execute_result"
    }
   ],
   "source": [
    "volks_data.describe()"
   ]
  },
  {
   "cell_type": "code",
   "execution_count": 48,
   "metadata": {},
   "outputs": [
    {
     "data": {
      "text/html": [
       "<div>\n",
       "<style scoped>\n",
       "    .dataframe tbody tr th:only-of-type {\n",
       "        vertical-align: middle;\n",
       "    }\n",
       "\n",
       "    .dataframe tbody tr th {\n",
       "        vertical-align: top;\n",
       "    }\n",
       "\n",
       "    .dataframe thead th {\n",
       "        text-align: right;\n",
       "    }\n",
       "</style>\n",
       "<table border=\"1\" class=\"dataframe\">\n",
       "  <thead>\n",
       "    <tr style=\"text-align: right;\">\n",
       "      <th></th>\n",
       "      <th>Open</th>\n",
       "      <th>High</th>\n",
       "      <th>Low</th>\n",
       "      <th>Close</th>\n",
       "      <th>Adj Close</th>\n",
       "      <th>Volume</th>\n",
       "    </tr>\n",
       "  </thead>\n",
       "  <tbody>\n",
       "    <tr>\n",
       "      <th>count</th>\n",
       "      <td>240.000000</td>\n",
       "      <td>240.000000</td>\n",
       "      <td>240.000000</td>\n",
       "      <td>240.000000</td>\n",
       "      <td>240.000000</td>\n",
       "      <td>2.400000e+02</td>\n",
       "    </tr>\n",
       "    <tr>\n",
       "      <th>mean</th>\n",
       "      <td>6.963500</td>\n",
       "      <td>7.076250</td>\n",
       "      <td>6.830542</td>\n",
       "      <td>6.945125</td>\n",
       "      <td>6.933613</td>\n",
       "      <td>7.799888e+07</td>\n",
       "    </tr>\n",
       "    <tr>\n",
       "      <th>std</th>\n",
       "      <td>1.394252</td>\n",
       "      <td>1.377434</td>\n",
       "      <td>1.424228</td>\n",
       "      <td>1.404636</td>\n",
       "      <td>1.386710</td>\n",
       "      <td>3.003533e+07</td>\n",
       "    </tr>\n",
       "    <tr>\n",
       "      <th>min</th>\n",
       "      <td>4.270000</td>\n",
       "      <td>4.420000</td>\n",
       "      <td>3.960000</td>\n",
       "      <td>4.010000</td>\n",
       "      <td>4.010000</td>\n",
       "      <td>2.785390e+07</td>\n",
       "    </tr>\n",
       "    <tr>\n",
       "      <th>25%</th>\n",
       "      <td>5.987500</td>\n",
       "      <td>6.097500</td>\n",
       "      <td>5.820000</td>\n",
       "      <td>5.940000</td>\n",
       "      <td>5.940000</td>\n",
       "      <td>5.688458e+07</td>\n",
       "    </tr>\n",
       "    <tr>\n",
       "      <th>50%</th>\n",
       "      <td>6.905000</td>\n",
       "      <td>7.000000</td>\n",
       "      <td>6.805000</td>\n",
       "      <td>6.910000</td>\n",
       "      <td>6.910000</td>\n",
       "      <td>7.177960e+07</td>\n",
       "    </tr>\n",
       "    <tr>\n",
       "      <th>75%</th>\n",
       "      <td>8.025000</td>\n",
       "      <td>8.092500</td>\n",
       "      <td>7.910000</td>\n",
       "      <td>8.007500</td>\n",
       "      <td>8.007500</td>\n",
       "      <td>9.383295e+07</td>\n",
       "    </tr>\n",
       "    <tr>\n",
       "      <th>max</th>\n",
       "      <td>9.310000</td>\n",
       "      <td>9.500000</td>\n",
       "      <td>9.290000</td>\n",
       "      <td>9.450000</td>\n",
       "      <td>9.450000</td>\n",
       "      <td>2.318008e+08</td>\n",
       "    </tr>\n",
       "  </tbody>\n",
       "</table>\n",
       "</div>"
      ],
      "text/plain": [
       "             Open        High         Low       Close   Adj Close  \\\n",
       "count  240.000000  240.000000  240.000000  240.000000  240.000000   \n",
       "mean     6.963500    7.076250    6.830542    6.945125    6.933613   \n",
       "std      1.394252    1.377434    1.424228    1.404636    1.386710   \n",
       "min      4.270000    4.420000    3.960000    4.010000    4.010000   \n",
       "25%      5.987500    6.097500    5.820000    5.940000    5.940000   \n",
       "50%      6.905000    7.000000    6.805000    6.910000    6.910000   \n",
       "75%      8.025000    8.092500    7.910000    8.007500    8.007500   \n",
       "max      9.310000    9.500000    9.290000    9.450000    9.450000   \n",
       "\n",
       "             Volume  \n",
       "count  2.400000e+02  \n",
       "mean   7.799888e+07  \n",
       "std    3.003533e+07  \n",
       "min    2.785390e+07  \n",
       "25%    5.688458e+07  \n",
       "50%    7.177960e+07  \n",
       "75%    9.383295e+07  \n",
       "max    2.318008e+08  "
      ]
     },
     "execution_count": 48,
     "metadata": {},
     "output_type": "execute_result"
    }
   ],
   "source": [
    "ford_data.describe()"
   ]
  },
  {
   "cell_type": "code",
   "execution_count": 11,
   "metadata": {},
   "outputs": [
    {
     "data": {
      "text/plain": [
       "Index(['Open', 'High', 'Low', 'Close', 'Adj Close', 'Volume'], dtype='object')"
      ]
     },
     "execution_count": 11,
     "metadata": {},
     "output_type": "execute_result"
    }
   ],
   "source": [
    "tesla_data.columns"
   ]
  },
  {
   "cell_type": "markdown",
   "metadata": {},
   "source": [
    "Now lets check the indexes of all the dataframes to confirm our date values in index have dtype of datetime64 "
   ]
  },
  {
   "cell_type": "code",
   "execution_count": 53,
   "metadata": {},
   "outputs": [
    {
     "data": {
      "text/plain": [
       "DatetimeIndex(['2020-01-02', '2020-01-03', '2020-01-06', '2020-01-07',\n",
       "               '2020-01-08', '2020-01-09', '2020-01-10', '2020-01-13',\n",
       "               '2020-01-14', '2020-01-15',\n",
       "               ...\n",
       "               '2020-11-30', '2020-12-01', '2020-12-02', '2020-12-03',\n",
       "               '2020-12-04', '2020-12-07', '2020-12-08', '2020-12-09',\n",
       "               '2020-12-10', '2020-12-11'],\n",
       "              dtype='datetime64[ns]', name='Date', length=240, freq=None)"
      ]
     },
     "execution_count": 53,
     "metadata": {},
     "output_type": "execute_result"
    }
   ],
   "source": [
    "tesla_data.index"
   ]
  },
  {
   "cell_type": "code",
   "execution_count": 54,
   "metadata": {
    "scrolled": true
   },
   "outputs": [
    {
     "data": {
      "text/plain": [
       "DatetimeIndex(['2020-01-02', '2020-01-03', '2020-01-06', '2020-01-07',\n",
       "               '2020-01-08', '2020-01-09', '2020-01-10', '2020-01-13',\n",
       "               '2020-01-14', '2020-01-15',\n",
       "               ...\n",
       "               '2020-11-27', '2020-11-30', '2020-12-01', '2020-12-02',\n",
       "               '2020-12-03', '2020-12-04', '2020-12-07', '2020-12-08',\n",
       "               '2020-12-09', '2020-12-10'],\n",
       "              dtype='datetime64[ns]', name='Date', length=239, freq=None)"
      ]
     },
     "execution_count": 54,
     "metadata": {},
     "output_type": "execute_result"
    }
   ],
   "source": [
    "volks_data.index"
   ]
  },
  {
   "cell_type": "markdown",
   "metadata": {},
   "source": [
    "## Time series \n",
    "\n",
    "A time series is a sequence of numerical data points taken at successively equal spaced points in time.\n",
    "In investing, Time-series tracks the movement of stock price over a specific period of time."
   ]
  },
  {
   "cell_type": "code",
   "execution_count": 57,
   "metadata": {},
   "outputs": [],
   "source": [
    "import matplotlib.dates as mdates  # --> this module helps us render dates according to our convinience"
   ]
  },
  {
   "cell_type": "markdown",
   "metadata": {},
   "source": [
    "#### Monthly plot"
   ]
  },
  {
   "cell_type": "code",
   "execution_count": 56,
   "metadata": {
    "scrolled": true
   },
   "outputs": [
    {
     "data": {
      "image/png": "[encoded data removed]",
      "text/plain": [
       "<Figure size 936x360 with 3 Axes>"
      ]
     },
     "metadata": {},
     "output_type": "display_data"
    }
   ],
   "source": [
    "f, (ax1,ax2, ax3) = plt.subplots(1,3, sharey=True, sharex=True, figsize=(13,5))\n",
    "f.gca().xaxis.set_major_formatter(mdates.DateFormatter('%m'))\n",
    "f.gca().xaxis.set_major_locator(mdates.MonthLocator())\n",
    "\n",
    "ax1.plot(tesla_data.index, tesla_data['Adj Close'])\n",
    "ax1.set_title(\"Tesla\", fontsize=15)\n",
    "ax1.tick_params(labelrotation=90)\n",
    "\n",
    "ax2.plot(volks_data.index, volks_data['Adj Close'])\n",
    "ax2.set_title(\"Volkswagen\", fontsize=15)\n",
    "ax2.tick_params(labelrotation=90)\n",
    "\n",
    "ax3.plot(ford_data.index, ford_data['Adj Close'])\n",
    "ax3.set_title(\"Ford\", fontsize=15)\n",
    "ax3.tick_params(labelrotation=90)\n",
    "\n",
    "plt.show()"
   ]
  },
  {
   "cell_type": "markdown",
   "metadata": {},
   "source": [
    "It can clearly be seen how tesla's stocks have been rising dominantly and volkswagen's and ford's stocks have been consitent . There was a negligible downfall in volkswagens stocks in end days of march but it didnt affect the consistency of companies stocks. thus, there was no net profit or loss for the investors in case of volkswagen and ford in year 2020 where as investers of tesla are enjoying the tremendous rise in value for companies stocks."
   ]
  },
  {
   "cell_type": "markdown",
   "metadata": {},
   "source": [
    "#### Resampling ( Quarterly )\n",
    "\n",
    "since stocks of volkswagen and ford have neither grown or fallen, lets analyse tesla's stocks which have been rising rapidly"
   ]
  },
  {
   "cell_type": "markdown",
   "metadata": {},
   "source": [
    "lets look into quarter wise performance of tesla.\n",
    "For that we will first get mean of tesla's stocks broken down into 4 quarters."
   ]
  },
  {
   "cell_type": "code",
   "execution_count": 18,
   "metadata": {},
   "outputs": [
    {
     "data": {
      "image/png": "[encoded data removed]",
      "text/plain": [
       "<Figure size 432x288 with 1 Axes>"
      ]
     },
     "metadata": {},
     "output_type": "display_data"
    }
   ],
   "source": [
    "tesla_quarter_data = tesla_data.resample('4M').mean()\n",
    "plt.scatter(tesla_quarter_data.index, tesla_quarter_data['Adj Close'])\n",
    "plt.gca().xaxis.set_major_formatter(mdates.DateFormatter('%m'))\n",
    "plt.gca().xaxis.set_major_locator(mdates.MonthLocator())\n",
    "plt.show()"
   ]
  },
  {
   "cell_type": "markdown",
   "metadata": {},
   "source": [
    "#### Resampling ( Weekly )\n",
    "\n",
    "lets now see how tesla's stocks grew weekly. 'o' symbols in chart represent weeks in the following graph and the line will represent overall growth or downfall over months."
   ]
  },
  {
   "cell_type": "code",
   "execution_count": 23,
   "metadata": {},
   "outputs": [
    {
     "data": {
      "image/png": "[encoded data removed]",
      "text/plain": [
       "<Figure size 432x288 with 1 Axes>"
      ]
     },
     "metadata": {},
     "output_type": "display_data"
    }
   ],
   "source": [
    "weekly_tesla_data = tesla_data.resample('w').mean()\n",
    "plt.plot(weekly_tesla_data.index, weekly_tesla_data['Adj Close'], '-o')\n",
    "plt.gca().xaxis.set_major_formatter(mdates.DateFormatter('%m-%d'))\n",
    "plt.gca().xaxis.set_major_locator(mdates.MonthLocator())\n",
    "plt.xticks(rotation=90)\n",
    "plt.show()"
   ]
  },
  {
   "cell_type": "markdown",
   "metadata": {},
   "source": [
    "we can see that although tesla has performed better than other companies , we can see stocks went down from 'march' till starting of 'april'. It can be an impact of sudden coronavirus pandemic outbreak . but overall stocks have been rising maybe due to popularity or less competition or maybe a new product or model was launched .\n",
    "Thus we can conclude that investing in all the three companies will not cause you a loss but long term investement in tesla will surely be benificial.\n",
    "also, volkswagen and ford can increase their stocks by launching a new product such as electric cars such as tesla or more commercially viable product or more public attention can be drawn through offering sale over the products and advertising"
   ]
  },
  {
   "cell_type": "markdown",
   "metadata": {},
   "source": [
    "### Thankyu!!"
   ]
  }
 ],
 "metadata": {
  "kernelspec": {
   "display_name": "Python 3",
   "language": "python",
   "name": "python3"
  },
  "language_info": {
   "codemirror_mode": {
    "name": "ipython",
    "version": 3
   },
   "file_extension": ".py",
   "mimetype": "text/x-python",
   "name": "python",
   "nbconvert_exporter": "python",
   "pygments_lexer": "ipython3",
   "version": "3.8.3"
  }
 },
 "nbformat": 4,
 "nbformat_minor": 4
}
